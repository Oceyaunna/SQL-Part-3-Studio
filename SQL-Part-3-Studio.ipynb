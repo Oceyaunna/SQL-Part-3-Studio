{
    "metadata": {
        "kernelspec": {
            "name": "SQL",
            "display_name": "SQL",
            "language": "sql"
        },
        "language_info": {
            "name": "sql",
            "version": ""
        },
        "extensions": {
            "azuredatastudio": {
                "version": 1,
                "views": []
            }
        }
    },
    "nbformat_minor": 2,
    "nbformat": 4,
    "cells": [
        {
            "cell_type": "markdown",
            "source": [
                "# SQL Part 3 Studio\n",
                "\n",
                "### Let's practice your SQL quering skills!  For each question, work along in the notebook adding your query and answering the questions. \n",
                "\n",
                "### **DataSet**\n",
                "\n",
                "### <span style=\"font-size: 14px; font-family: -apple-system, BlinkMacSystemFont, sans-serif;\">We will be using the Goodbooks-10k dataset from the exercises in the prep work.&nbsp; Feel free reference your previous notebooks.</span>\n",
                "\n",
                "- The dataset can be found here: [goodbooks-10k](https://www.kaggle.com/zygmunt/goodbooks-10k)\n",
                "- You can access the **BooksDB** in the Launchcode server.\n",
                "\n",
                "### **Business Issue**\n",
                "\n",
                "You are an employee at a small independet bookstore and you have been tasked to increase sales.  You decide to use the BooksDB to find books and themes to highlight in fun promotions throughout each month / season.  We will be starting with March and then you will have a chance to explore another month of your choosing.  We want to come up with a list of events/ promotions to run each month.  If you are looking for ideas to include in your promotions:\n",
                "\n",
                "- [https://www.calendarr.com/united-states/calendar-2022/](https://www.calendarr.com/united-states/calendar-2022/)\n",
                "- [https://www.holidayinsights.com/moreholidays/](https://www.holidayinsights.com/moreholidays/)\n",
                "    - Click on a month and it will take you to a more detailed page"
            ],
            "metadata": {
                "azdata_cell_guid": "b9034d8a-b631-48bf-a895-1012a6ffa784"
            },
            "attachments": {}
        },
        {
            "cell_type": "markdown",
            "source": [
                "## Part 1:  March - Women's History Month, Dr Seuss Day(3/2), National Pie Day3/14, St Patrick's Day (3/17), Season - Spring"
            ],
            "metadata": {
                "azdata_cell_guid": "6e55eb1c-4a14-4076-90d2-95ed17a6309f"
            },
            "attachments": {}
        },
        {
            "cell_type": "markdown",
            "source": [
                "### **Event 1:** Women's History Month\n",
                "\n",
                "Goal: Highlight Popular Womans Authors based on ratings from the Good Reads DB.\n",
                "\n",
                "### **Write a query that returns tag\\_id, the number of times each tag\\_id is used and the tag\\_name.**  \n",
                "\n",
                "### Use the GROUP BY and HAVING clause to narrow your focus.\n",
                "\n",
                "Try multiple keywords, ie woman vs female (female ended up giving better results)"
            ],
            "metadata": {
                "azdata_cell_guid": "d220c097-e9cf-4edd-9abe-312d071217b7"
            },
            "attachments": {}
        },
        {
            "cell_type": "code",
            "source": [
                "-- Solution\r\n",
                "SELECT TOP 10 t.tag_id, COUNT(t.tag_id) AS 'Number of times tag_id was used', t.tag_name, r.rating\r\n",
                "FROM BooksDB.dbo.tags as t\r\n",
                "INNER JOIN BooksDB.dbo.ratings as r\r\n",
                "ON t.tag_id=r.user_id\r\n",
                "GROUP BY t.tag_name, r.rating, t.tag_id\r\n",
                "HAVING t.tag_name LIKE '%woman%' OR t.tag_name LIKE '%female%'\r\n",
                "ORDER BY COUNT(t.tag_id) DESC, r.rating DESC"
            ],
            "metadata": {
                "azdata_cell_guid": "e31b9d26-0386-44c7-828e-85f4f06f3ee6",
                "language": "sql"
            },
            "outputs": [
                {
                    "output_type": "display_data",
                    "data": {
                        "text/html": "(10 rows affected)"
                    },
                    "metadata": {}
                },
                {
                    "output_type": "display_data",
                    "data": {
                        "text/html": "Total execution time: 00:00:00.521"
                    },
                    "metadata": {}
                },
                {
                    "output_type": "execute_result",
                    "execution_count": 26,
                    "data": {
                        "application/vnd.dataresource+json": {
                            "schema": {
                                "fields": [
                                    {
                                        "name": "tag_id"
                                    },
                                    {
                                        "name": "Number of times tag_id was used"
                                    },
                                    {
                                        "name": "tag_name"
                                    },
                                    {
                                        "name": "rating"
                                    }
                                ]
                            },
                            "data": [
                                {
                                    "0": "11644",
                                    "1": "55",
                                    "2": "female-authors",
                                    "3": "4"
                                },
                                {
                                    "0": "28831",
                                    "1": "54",
                                    "2": "strong-female-character",
                                    "3": "4"
                                },
                                {
                                    "0": "28834",
                                    "1": "44",
                                    "2": "strong-female-lead",
                                    "3": "5"
                                },
                                {
                                    "0": "11644",
                                    "1": "40",
                                    "2": "female-authors",
                                    "3": "5"
                                },
                                {
                                    "0": "28831",
                                    "1": "38",
                                    "2": "strong-female-character",
                                    "3": "3"
                                },
                                {
                                    "0": "11649",
                                    "1": "35",
                                    "2": "female-fiction",
                                    "3": "5"
                                },
                                {
                                    "0": "23891",
                                    "1": "34",
                                    "2": "policewoman-potential-victim",
                                    "3": "5"
                                },
                                {
                                    "0": "28831",
                                    "1": "32",
                                    "2": "strong-female-character",
                                    "3": "5"
                                },
                                {
                                    "0": "22270",
                                    "1": "30",
                                    "2": "older-woman",
                                    "3": "4"
                                },
                                {
                                    "0": "11662",
                                    "1": "28",
                                    "2": "female-writers",
                                    "3": "4"
                                }
                            ]
                        },
                        "text/html": "<table><tr><th>tag_id</th><th>Number of times tag_id was used</th><th>tag_name</th><th>rating</th></tr><tr><td>11644</td><td>55</td><td>female-authors</td><td>4</td></tr><tr><td>28831</td><td>54</td><td>strong-female-character</td><td>4</td></tr><tr><td>28834</td><td>44</td><td>strong-female-lead</td><td>5</td></tr><tr><td>11644</td><td>40</td><td>female-authors</td><td>5</td></tr><tr><td>28831</td><td>38</td><td>strong-female-character</td><td>3</td></tr><tr><td>11649</td><td>35</td><td>female-fiction</td><td>5</td></tr><tr><td>23891</td><td>34</td><td>policewoman-potential-victim</td><td>5</td></tr><tr><td>28831</td><td>32</td><td>strong-female-character</td><td>5</td></tr><tr><td>22270</td><td>30</td><td>older-woman</td><td>4</td></tr><tr><td>11662</td><td>28</td><td>female-writers</td><td>4</td></tr></table>"
                    },
                    "metadata": {}
                }
            ],
            "execution_count": 26
        },
        {
            "cell_type": "markdown",
            "source": [
                "### **Which keyword(s) and tag(s) would you like to explore more?**\n",
                "\n",
                "female-authors : tag\\_id = 11644\n",
                "\n",
                "strong-female-lead: tag\\_id = 28834"
            ],
            "metadata": {
                "azdata_cell_guid": "e9acd8b5-a62b-4ac0-bd07-19915b379ba6"
            },
            "attachments": {}
        },
        {
            "cell_type": "markdown",
            "source": [
                "### **Write a query to return authors, titles, ratings and** **selected tag(s)\\_id.**"
            ],
            "metadata": {
                "azdata_cell_guid": "59b84464-c0bc-4dac-9e02-0c803765b063"
            },
            "attachments": {}
        },
        {
            "cell_type": "code",
            "source": [
                "-- Solution\r\n",
                "--A Query for the femle-authors tag\r\n",
                "SELECT b.title, b.authors, r.rating, r.user_id AS 'Female-Authors Tag'\r\n",
                "FROM BooksDB.dbo.books as b\r\n",
                "INNER JOIN BooksDB.dbo.ratings as r\r\n",
                "ON b.book_id=r.book_id\r\n",
                "WHERE r.user_id = 11644\r\n",
                "ORDER BY r.rating DESC\r\n",
                "\r\n",
                "--A Query for the strong-female-lead tag\r\n",
                "SELECT b.title, b.authors, r.rating, r.user_id AS 'Strong Fremale Lead Tag'\r\n",
                "FROM BooksDB.dbo.books as b\r\n",
                "INNER JOIN BooksDB.dbo.ratings as r\r\n",
                "ON b.book_id=r.book_id\r\n",
                "WHERE r.user_id = 28834\r\n",
                "ORDER BY r.rating DESC"
            ],
            "metadata": {
                "azdata_cell_guid": "51ffeaaf-6dde-4906-95f3-eb8757babf27",
                "tags": [],
                "language": "sql"
            },
            "outputs": [
                {
                    "output_type": "display_data",
                    "data": {
                        "text/html": "(5 rows affected)"
                    },
                    "metadata": {}
                },
                {
                    "output_type": "display_data",
                    "data": {
                        "text/html": "(10 rows affected)"
                    },
                    "metadata": {}
                },
                {
                    "output_type": "display_data",
                    "data": {
                        "text/html": "Total execution time: 00:00:00.382"
                    },
                    "metadata": {}
                },
                {
                    "output_type": "execute_result",
                    "metadata": {},
                    "execution_count": 1,
                    "data": {
                        "application/vnd.dataresource+json": {
                            "schema": {
                                "fields": [
                                    {
                                        "name": "title"
                                    },
                                    {
                                        "name": "authors"
                                    },
                                    {
                                        "name": "rating"
                                    },
                                    {
                                        "name": "Female-Authors Tag"
                                    }
                                ]
                            },
                            "data": [
                                {
                                    "0": "The Zahir",
                                    "1": "Paulo Coelho, Margaret Jull Costa",
                                    "2": "5",
                                    "3": "11644"
                                },
                                {
                                    "0": "Airframe",
                                    "1": "Michael Crichton",
                                    "2": "5",
                                    "3": "11644"
                                },
                                {
                                    "0": "The Body Farm (Kay Scarpetta, #5)",
                                    "1": "Patricia Cornwell",
                                    "2": "4",
                                    "3": "11644"
                                },
                                {
                                    "0": "The Virgin Blue",
                                    "1": "Tracy Chevalier",
                                    "2": "4",
                                    "3": "11644"
                                },
                                {
                                    "0": "Getting Things Done: The Art of Stress-Free Productivity",
                                    "1": "David    Allen",
                                    "2": "4",
                                    "3": "11644"
                                }
                            ]
                        },
                        "text/html": [
                            "<table>",
                            "<tr><th>title</th><th>authors</th><th>rating</th><th>Female-Authors Tag</th></tr>",
                            "<tr><td>The Zahir</td><td>Paulo Coelho, Margaret Jull Costa</td><td>5</td><td>11644</td></tr>",
                            "<tr><td>Airframe</td><td>Michael Crichton</td><td>5</td><td>11644</td></tr>",
                            "<tr><td>The Body Farm (Kay Scarpetta, #5)</td><td>Patricia Cornwell</td><td>4</td><td>11644</td></tr>",
                            "<tr><td>The Virgin Blue</td><td>Tracy Chevalier</td><td>4</td><td>11644</td></tr>",
                            "<tr><td>Getting Things Done: The Art of Stress-Free Productivity</td><td>David    Allen</td><td>4</td><td>11644</td></tr>",
                            "</table>"
                        ]
                    }
                },
                {
                    "output_type": "execute_result",
                    "metadata": {},
                    "execution_count": 1,
                    "data": {
                        "application/vnd.dataresource+json": {
                            "schema": {
                                "fields": [
                                    {
                                        "name": "title"
                                    },
                                    {
                                        "name": "authors"
                                    },
                                    {
                                        "name": "rating"
                                    },
                                    {
                                        "name": "Strong Fremale Lead Tag"
                                    }
                                ]
                            },
                            "data": [
                                {
                                    "0": "Deception Point",
                                    "1": "Dan Brown",
                                    "2": "5",
                                    "3": "28834"
                                },
                                {
                                    "0": "The Westing Game",
                                    "1": "Ellen Raskin",
                                    "2": "5",
                                    "3": "28834"
                                },
                                {
                                    "0": "Execution: The Discipline of Getting Things Done",
                                    "1": "Larry Bossidy, Ram Charan, Charles Burck",
                                    "2": "5",
                                    "3": "28834"
                                },
                                {
                                    "0": "The History of Sexuality, Volume 1: An Introduction",
                                    "1": "Michel Foucault, Robert Hurley",
                                    "2": "5",
                                    "3": "28834"
                                },
                                {
                                    "0": "The Autograph Man",
                                    "1": "Zadie Smith",
                                    "2": "5",
                                    "3": "28834"
                                },
                                {
                                    "0": "Lord of the Flies",
                                    "1": "William Golding",
                                    "2": "4",
                                    "3": "28834"
                                },
                                {
                                    "0": "Twelve Sharp (Stephanie Plum, #12)",
                                    "1": "Janet Evanovich",
                                    "2": "4",
                                    "3": "28834"
                                },
                                {
                                    "0": "The People of Sparks (Book of Ember, #2)",
                                    "1": "Jeanne DuPrau",
                                    "2": "4",
                                    "3": "28834"
                                },
                                {
                                    "0": "Sputnik Sweetheart",
                                    "1": "Haruki Murakami, Philip Gabriel",
                                    "2": "3",
                                    "3": "28834"
                                },
                                {
                                    "0": "Songbook",
                                    "1": "Nick Hornby",
                                    "2": "3",
                                    "3": "28834"
                                }
                            ]
                        },
                        "text/html": [
                            "<table>",
                            "<tr><th>title</th><th>authors</th><th>rating</th><th>Strong Fremale Lead Tag</th></tr>",
                            "<tr><td>Deception Point</td><td>Dan Brown</td><td>5</td><td>28834</td></tr>",
                            "<tr><td>The Westing Game</td><td>Ellen Raskin</td><td>5</td><td>28834</td></tr>",
                            "<tr><td>Execution: The Discipline of Getting Things Done</td><td>Larry Bossidy, Ram Charan, Charles Burck</td><td>5</td><td>28834</td></tr>",
                            "<tr><td>The History of Sexuality, Volume 1: An Introduction</td><td>Michel Foucault, Robert Hurley</td><td>5</td><td>28834</td></tr>",
                            "<tr><td>The Autograph Man</td><td>Zadie Smith</td><td>5</td><td>28834</td></tr>",
                            "<tr><td>Lord of the Flies</td><td>William Golding</td><td>4</td><td>28834</td></tr>",
                            "<tr><td>Twelve Sharp (Stephanie Plum, #12)</td><td>Janet Evanovich</td><td>4</td><td>28834</td></tr>",
                            "<tr><td>The People of Sparks (Book of Ember, #2)</td><td>Jeanne DuPrau</td><td>4</td><td>28834</td></tr>",
                            "<tr><td>Sputnik Sweetheart</td><td>Haruki Murakami, Philip Gabriel</td><td>3</td><td>28834</td></tr>",
                            "<tr><td>Songbook</td><td>Nick Hornby</td><td>3</td><td>28834</td></tr>",
                            "</table>"
                        ]
                    }
                }
            ],
            "execution_count": 1
        },
        {
            "cell_type": "markdown",
            "source": [
                "### **Record your thoughts about why you wrote the query the way you did.**"
            ],
            "metadata": {
                "azdata_cell_guid": "1e19a72c-1bca-446b-a0c7-a8efbc35dcf1"
            },
            "attachments": {}
        },
        {
            "cell_type": "markdown",
            "source": [
                "# Part 2: Choose Another Month\n",
                "\n",
                "Choose another month and plan at least 2 events / promotions and answer the following questions.\n",
                "\n",
                "Which month did you choose?  **Frebruary**\n",
                "\n",
                "What 2 events / promotions are you highlighting?\n",
                "\n",
                "> 1. Black History month\n",
                "\n",
                "> 2. Valentines Day"
            ],
            "metadata": {
                "azdata_cell_guid": "3eaf376d-9de3-4553-a9d0-9caf74ee3d6a"
            },
            "attachments": {}
        },
        {
            "cell_type": "markdown",
            "source": [
                "# Part 3: Summarize your Work\n",
                "\n",
                "For each event write at least one query that joins any two tables in the BooksDB to support your choice and record you thoughts as to why you used the paticlular query. At least one of your queries needs to include a HAVING clause."
            ],
            "metadata": {
                "azdata_cell_guid": "1ba1363a-4f02-4962-a95a-93b80c5926b1"
            },
            "attachments": {}
        },
        {
            "cell_type": "code",
            "source": [
                "-- BLACK HISTORY MONTH\r\n",
                "--Find tags with 'black' or 'african american'\r\n",
                "--Im going to use african-american-history (tag_id 1759)\r\n",
                "SELECT TOP 10 t.tag_id, COUNT(t.tag_id) AS 'Number of times tag_id was used', t.tag_name, r.rating\r\n",
                "FROM BooksDB.dbo.tags as t\r\n",
                "INNER JOIN BooksDB.dbo.ratings as r\r\n",
                "ON t.tag_id=r.user_id\r\n",
                "GROUP BY t.tag_name, r.rating, t.tag_id\r\n",
                "HAVING t.tag_name LIKE '%black%' OR t.tag_name LIKE '%african%'\r\n",
                "ORDER BY COUNT(t.tag_id) DESC, r.rating DESC\r\n",
                "\r\n",
                "--A Query for the African American History tag\r\n",
                "SELECT b.title, b.authors, r.rating, r.user_id AS 'African American History'\r\n",
                "FROM BooksDB.dbo.books as b\r\n",
                "INNER JOIN BooksDB.dbo.ratings as r\r\n",
                "ON b.book_id=r.book_id\r\n",
                "WHERE r.user_id = 1759\r\n",
                "ORDER BY r.rating DESC"
            ],
            "metadata": {
                "azdata_cell_guid": "f50d32ce-4cb2-4af2-acb1-607777a76cf8",
                "language": "sql",
                "tags": []
            },
            "outputs": [
                {
                    "output_type": "display_data",
                    "data": {
                        "text/html": "(10 rows affected)"
                    },
                    "metadata": {}
                },
                {
                    "output_type": "display_data",
                    "data": {
                        "text/html": "(7 rows affected)"
                    },
                    "metadata": {}
                },
                {
                    "output_type": "display_data",
                    "data": {
                        "text/html": "Total execution time: 00:00:00.689"
                    },
                    "metadata": {}
                },
                {
                    "output_type": "execute_result",
                    "metadata": {},
                    "execution_count": 6,
                    "data": {
                        "application/vnd.dataresource+json": {
                            "schema": {
                                "fields": [
                                    {
                                        "name": "tag_id"
                                    },
                                    {
                                        "name": "Number of times tag_id was used"
                                    },
                                    {
                                        "name": "tag_name"
                                    },
                                    {
                                        "name": "rating"
                                    }
                                ]
                            },
                            "data": [
                                {
                                    "0": "27499",
                                    "1": "116",
                                    "2": "shayla-black",
                                    "3": "5"
                                },
                                {
                                    "0": "29703",
                                    "1": "92",
                                    "2": "the-chronicle-of-the-black-company",
                                    "3": "5"
                                },
                                {
                                    "0": "4706",
                                    "1": "52",
                                    "2": "black-fire",
                                    "3": "5"
                                },
                                {
                                    "0": "4715",
                                    "1": "50",
                                    "2": "black-liberation",
                                    "3": "4"
                                },
                                {
                                    "0": "29703",
                                    "1": "41",
                                    "2": "the-chronicle-of-the-black-company",
                                    "3": "3"
                                },
                                {
                                    "0": "4715",
                                    "1": "41",
                                    "2": "black-liberation",
                                    "3": "3"
                                },
                                {
                                    "0": "1759",
                                    "1": "40",
                                    "2": "african-american-history",
                                    "3": "4"
                                },
                                {
                                    "0": "4706",
                                    "1": "40",
                                    "2": "black-fire",
                                    "3": "4"
                                },
                                {
                                    "0": "29661",
                                    "1": "39",
                                    "2": "the-blackstone-affair",
                                    "3": "5"
                                },
                                {
                                    "0": "4698",
                                    "1": "39",
                                    "2": "black-dagger-legacy",
                                    "3": "3"
                                }
                            ]
                        },
                        "text/html": [
                            "<table>",
                            "<tr><th>tag_id</th><th>Number of times tag_id was used</th><th>tag_name</th><th>rating</th></tr>",
                            "<tr><td>27499</td><td>116</td><td>shayla-black</td><td>5</td></tr>",
                            "<tr><td>29703</td><td>92</td><td>the-chronicle-of-the-black-company</td><td>5</td></tr>",
                            "<tr><td>4706</td><td>52</td><td>black-fire</td><td>5</td></tr>",
                            "<tr><td>4715</td><td>50</td><td>black-liberation</td><td>4</td></tr>",
                            "<tr><td>29703</td><td>41</td><td>the-chronicle-of-the-black-company</td><td>3</td></tr>",
                            "<tr><td>4715</td><td>41</td><td>black-liberation</td><td>3</td></tr>",
                            "<tr><td>1759</td><td>40</td><td>african-american-history</td><td>4</td></tr>",
                            "<tr><td>4706</td><td>40</td><td>black-fire</td><td>4</td></tr>",
                            "<tr><td>29661</td><td>39</td><td>the-blackstone-affair</td><td>5</td></tr>",
                            "<tr><td>4698</td><td>39</td><td>black-dagger-legacy</td><td>3</td></tr>",
                            "</table>"
                        ]
                    }
                },
                {
                    "output_type": "execute_result",
                    "metadata": {},
                    "execution_count": 6,
                    "data": {
                        "application/vnd.dataresource+json": {
                            "schema": {
                                "fields": [
                                    {
                                        "name": "title"
                                    },
                                    {
                                        "name": "authors"
                                    },
                                    {
                                        "name": "rating"
                                    },
                                    {
                                        "name": "African American History"
                                    }
                                ]
                            },
                            "data": [
                                {
                                    "0": "The 158-Pound Marriage",
                                    "1": "John Irving",
                                    "2": "5",
                                    "3": "1759"
                                },
                                {
                                    "0": "One Hundred Years of Solitude",
                                    "1": "Gabriel García Márquez, Gregory Rabassa",
                                    "2": "4",
                                    "3": "1759"
                                },
                                {
                                    "0": "We the Living",
                                    "1": "Ayn Rand, Leonard Peikoff",
                                    "2": "4",
                                    "3": "1759"
                                },
                                {
                                    "0": "The Salmon of Doubt (Dirk Gently, #3)",
                                    "1": "Douglas Adams",
                                    "2": "4",
                                    "3": "1759"
                                },
                                {
                                    "0": "The Broken Wings",
                                    "1": "Kahlil Gibran, Anthony R. Ferris",
                                    "2": "4",
                                    "3": "1759"
                                },
                                {
                                    "0": "Treasure Island",
                                    "1": "Robert Louis Stevenson",
                                    "2": "3",
                                    "3": "1759"
                                },
                                {
                                    "0": "The New York Trilogy",
                                    "1": "Paul Auster, Art Spiegelman",
                                    "2": "3",
                                    "3": "1759"
                                }
                            ]
                        },
                        "text/html": [
                            "<table>",
                            "<tr><th>title</th><th>authors</th><th>rating</th><th>African American History</th></tr>",
                            "<tr><td>The 158-Pound Marriage</td><td>John Irving</td><td>5</td><td>1759</td></tr>",
                            "<tr><td>One Hundred Years of Solitude</td><td>Gabriel García Márquez, Gregory Rabassa</td><td>4</td><td>1759</td></tr>",
                            "<tr><td>We the Living</td><td>Ayn Rand, Leonard Peikoff</td><td>4</td><td>1759</td></tr>",
                            "<tr><td>The Salmon of Doubt (Dirk Gently, #3)</td><td>Douglas Adams</td><td>4</td><td>1759</td></tr>",
                            "<tr><td>The Broken Wings</td><td>Kahlil Gibran, Anthony R. Ferris</td><td>4</td><td>1759</td></tr>",
                            "<tr><td>Treasure Island</td><td>Robert Louis Stevenson</td><td>3</td><td>1759</td></tr>",
                            "<tr><td>The New York Trilogy</td><td>Paul Auster, Art Spiegelman</td><td>3</td><td>1759</td></tr>",
                            "</table>"
                        ]
                    }
                }
            ],
            "execution_count": 6
        },
        {
            "cell_type": "code",
            "source": [
                "-- VALENTINES DAY\r\n",
                "--Find tags with 'love' or 'romance'\r\n",
                "--Im going to use Lesbian Romance (tag_id 17937)\r\n",
                "SELECT TOP 10 t.tag_id, COUNT(t.tag_id) AS 'Number of times tag_id was used', t.tag_name, r.rating\r\n",
                "FROM BooksDB.dbo.tags as t\r\n",
                "INNER JOIN BooksDB.dbo.ratings as r\r\n",
                "ON t.tag_id=r.user_id\r\n",
                "GROUP BY t.tag_name, r.rating, t.tag_id\r\n",
                "HAVING t.tag_name LIKE '%love%' OR t.tag_name LIKE '%romance%'\r\n",
                "ORDER BY COUNT(t.tag_id) DESC, r.rating DESC\r\n",
                "\r\n",
                "\r\n",
                "--A Query for the Lesbian Romance tag\r\n",
                "SELECT b.title, b.authors, r.rating, r.user_id AS 'Lesbian Romance Tag'\r\n",
                "FROM BooksDB.dbo.books as b\r\n",
                "INNER JOIN BooksDB.dbo.ratings as r\r\n",
                "ON b.book_id=r.book_id\r\n",
                "WHERE r.user_id = 17937\r\n",
                "ORDER BY r.rating DESC\r\n",
                ""
            ],
            "metadata": {
                "azdata_cell_guid": "5606f7f2-c46b-42d3-ac64-7ae21c3394f8",
                "language": "sql",
                "tags": []
            },
            "outputs": [
                {
                    "output_type": "display_data",
                    "data": {
                        "text/html": "(10 rows affected)"
                    },
                    "metadata": {}
                },
                {
                    "output_type": "display_data",
                    "data": {
                        "text/html": "(6 rows affected)"
                    },
                    "metadata": {}
                },
                {
                    "output_type": "display_data",
                    "data": {
                        "text/html": "Total execution time: 00:00:00.710"
                    },
                    "metadata": {}
                },
                {
                    "output_type": "execute_result",
                    "metadata": {},
                    "execution_count": 9,
                    "data": {
                        "application/vnd.dataresource+json": {
                            "schema": {
                                "fields": [
                                    {
                                        "name": "tag_id"
                                    },
                                    {
                                        "name": "Number of times tag_id was used"
                                    },
                                    {
                                        "name": "tag_name"
                                    },
                                    {
                                        "name": "rating"
                                    }
                                ]
                            },
                            "data": [
                                {
                                    "0": "26145",
                                    "1": "141",
                                    "2": "romance-contemporaneo",
                                    "3": "3"
                                },
                                {
                                    "0": "17937",
                                    "1": "120",
                                    "2": "lesbian-romance",
                                    "3": "5"
                                },
                                {
                                    "0": "27612",
                                    "1": "102",
                                    "2": "shifter-romance",
                                    "3": "5"
                                },
                                {
                                    "0": "7120",
                                    "1": "85",
                                    "2": "christian-fiction-romance",
                                    "3": "5"
                                },
                                {
                                    "0": "26146",
                                    "1": "82",
                                    "2": "romance-contemporary",
                                    "3": "5"
                                },
                                {
                                    "0": "17130",
                                    "1": "78",
                                    "2": "kids-books-i-love",
                                    "3": "5"
                                },
                                {
                                    "0": "21058",
                                    "1": "68",
                                    "2": "na-romance",
                                    "3": "5"
                                },
                                {
                                    "0": "7674",
                                    "1": "60",
                                    "2": "college-love",
                                    "3": "4"
                                },
                                {
                                    "0": "20634",
                                    "1": "57",
                                    "2": "multiple-lovers",
                                    "3": "5"
                                },
                                {
                                    "0": "31867",
                                    "1": "55",
                                    "2": "victorian-romance",
                                    "3": "4"
                                }
                            ]
                        },
                        "text/html": [
                            "<table>",
                            "<tr><th>tag_id</th><th>Number of times tag_id was used</th><th>tag_name</th><th>rating</th></tr>",
                            "<tr><td>26145</td><td>141</td><td>romance-contemporaneo</td><td>3</td></tr>",
                            "<tr><td>17937</td><td>120</td><td>lesbian-romance</td><td>5</td></tr>",
                            "<tr><td>27612</td><td>102</td><td>shifter-romance</td><td>5</td></tr>",
                            "<tr><td>7120</td><td>85</td><td>christian-fiction-romance</td><td>5</td></tr>",
                            "<tr><td>26146</td><td>82</td><td>romance-contemporary</td><td>5</td></tr>",
                            "<tr><td>17130</td><td>78</td><td>kids-books-i-love</td><td>5</td></tr>",
                            "<tr><td>21058</td><td>68</td><td>na-romance</td><td>5</td></tr>",
                            "<tr><td>7674</td><td>60</td><td>college-love</td><td>4</td></tr>",
                            "<tr><td>20634</td><td>57</td><td>multiple-lovers</td><td>5</td></tr>",
                            "<tr><td>31867</td><td>55</td><td>victorian-romance</td><td>4</td></tr>",
                            "</table>"
                        ]
                    }
                },
                {
                    "output_type": "execute_result",
                    "metadata": {},
                    "execution_count": 9,
                    "data": {
                        "application/vnd.dataresource+json": {
                            "schema": {
                                "fields": [
                                    {
                                        "name": "title"
                                    },
                                    {
                                        "name": "authors"
                                    },
                                    {
                                        "name": "rating"
                                    },
                                    {
                                        "name": "Lesbian Romance Tag"
                                    }
                                ]
                            },
                            "data": [
                                {
                                    "0": "Men Are from Mars, Women Are from Venus",
                                    "1": "John Gray",
                                    "2": "5",
                                    "3": "17937"
                                },
                                {
                                    "0": "Mrs. Frisby and the Rats of NIMH (Rats of NIMH, #1)",
                                    "1": "Robert C. O'Brien",
                                    "2": "5",
                                    "3": "17937"
                                },
                                {
                                    "0": "The Street Lawyer",
                                    "1": "John Grisham",
                                    "2": "5",
                                    "3": "17937"
                                },
                                {
                                    "0": "Sputnik Sweetheart",
                                    "1": "Haruki Murakami, Philip Gabriel",
                                    "2": "5",
                                    "3": "17937"
                                },
                                {
                                    "0": "The History of Sexuality, Volume 1: An Introduction",
                                    "1": "Michel Foucault, Robert Hurley",
                                    "2": "5",
                                    "3": "17937"
                                },
                                {
                                    "0": "On Her Majesty's Secret Service (James Bond, #11)",
                                    "1": "Ian Fleming",
                                    "2": "5",
                                    "3": "17937"
                                }
                            ]
                        },
                        "text/html": [
                            "<table>",
                            "<tr><th>title</th><th>authors</th><th>rating</th><th>Lesbian Romance Tag</th></tr>",
                            "<tr><td>Men Are from Mars, Women Are from Venus</td><td>John Gray</td><td>5</td><td>17937</td></tr>",
                            "<tr><td>Mrs. Frisby and the Rats of NIMH (Rats of NIMH, #1)</td><td>Robert C. O'Brien</td><td>5</td><td>17937</td></tr>",
                            "<tr><td>The Street Lawyer</td><td>John Grisham</td><td>5</td><td>17937</td></tr>",
                            "<tr><td>Sputnik Sweetheart</td><td>Haruki Murakami, Philip Gabriel</td><td>5</td><td>17937</td></tr>",
                            "<tr><td>The History of Sexuality, Volume 1: An Introduction</td><td>Michel Foucault, Robert Hurley</td><td>5</td><td>17937</td></tr>",
                            "<tr><td>On Her Majesty's Secret Service (James Bond, #11)</td><td>Ian Fleming</td><td>5</td><td>17937</td></tr>",
                            "</table>"
                        ]
                    }
                }
            ],
            "execution_count": 9
        },
        {
            "cell_type": "markdown",
            "source": [
                "### **Summary of event 1:**\n",
                "\n",
                "Double Click to edit.\n",
                "\n",
                "- Black History Month: In my search for books that contain the tag **black-american-history** I saw that this tag was used a total of 40 times and had an average rating of 4. The Book '150 Pound Marriage ' had the highest rating of 5 in this category."
            ],
            "metadata": {
                "azdata_cell_guid": "3bc72d4c-077b-42d3-9528-9aff8e7b6cf3"
            },
            "attachments": {}
        },
        {
            "cell_type": "code",
            "source": [
                ""
            ],
            "metadata": {
                "azdata_cell_guid": "dca0a98f-065f-4b0e-9d93-fcb01cad668c",
                "language": "sql"
            },
            "outputs": [],
            "execution_count": null
        },
        {
            "cell_type": "code",
            "source": [
                ""
            ],
            "metadata": {
                "azdata_cell_guid": "3aaae3a8-eff7-4b37-8970-2d913a67239b",
                "language": "sql"
            },
            "outputs": [],
            "execution_count": null
        },
        {
            "cell_type": "markdown",
            "source": [
                "### **Summary of event 2:**\n",
                "\n",
                "- Valentines Day: I queried  the tags that has the word 'romance' or 'love' and **lesbian-romance** was the most taged with the highest rating. In this category there were 6 books that all had a rating of 5. The 6 books were:\n",
                "    - Men Are from Mars, Women Are from Venus\n",
                "    - Mrs. Frisby and the Rats of NIMH (Rats of NIMH, #1)\n",
                "    - The Street Lawyer\n",
                "    - Sputnik Sweetheart\n",
                "    - The History of Sexuality, Volume 1: An Introduction\n",
                "    - On Her Majesty's Secret Service (James Bond, #11)"
            ],
            "metadata": {
                "azdata_cell_guid": "99d518dc-cd8b-42d6-9a9d-708771c9aa99"
            },
            "attachments": {}
        }
    ]
}