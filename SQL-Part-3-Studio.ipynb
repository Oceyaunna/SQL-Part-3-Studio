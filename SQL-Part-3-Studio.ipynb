{
    "metadata": {
        "kernelspec": {
            "name": "SQL",
            "display_name": "SQL",
            "language": "sql"
        },
        "language_info": {
            "name": "sql",
            "version": ""
        },
        "extensions": {
            "azuredatastudio": {
                "version": 1,
                "views": []
            }
        }
    },
    "nbformat_minor": 2,
    "nbformat": 4,
    "cells": [
        {
            "cell_type": "markdown",
            "source": [
                "# SQL Part 3 Studio\n",
                "\n",
                "### Let's practice your SQL quering skills!  For each question, work along in the notebook adding your query and answering the questions. \n",
                "\n",
                "### **DataSet**\n",
                "\n",
                "### <span style=\"font-size: 14px; font-family: -apple-system, BlinkMacSystemFont, sans-serif;\">We will be using the Goodbooks-10k dataset from the exercises in the prep work.&nbsp; Feel free reference your previous notebooks.</span>\n",
                "\n",
                "- The dataset can be found here: [goodbooks-10k](https://www.kaggle.com/zygmunt/goodbooks-10k)\n",
                "- You can access the **BooksDB** in the Launchcode server.\n",
                "\n",
                "### **Business Issue**\n",
                "\n",
                "You are an employee at a small independet bookstore and you have been tasked to increase sales.  You decide to use the BooksDB to find books and themes to highlight in fun promotions throughout each month / season.  We will be starting with March and then you will have a chance to explore another month of your choosing.  We want to come up with a list of events/ promotions to run each month.  If you are looking for ideas to include in your promotions:\n",
                "\n",
                "- [https://www.calendarr.com/united-states/calendar-2022/](https://www.calendarr.com/united-states/calendar-2022/)\n",
                "- [https://www.holidayinsights.com/moreholidays/](https://www.holidayinsights.com/moreholidays/)\n",
                "    - Click on a month and it will take you to a more detailed page"
            ],
            "metadata": {
                "azdata_cell_guid": "b9034d8a-b631-48bf-a895-1012a6ffa784"
            },
            "attachments": {}
        },
        {
            "cell_type": "markdown",
            "source": [
                "## Part 1:  March - Women's History Month, Dr Seuss Day(3/2), National Pie Day3/14, St Patrick's Day (3/17), Season - Spring"
            ],
            "metadata": {
                "azdata_cell_guid": "6e55eb1c-4a14-4076-90d2-95ed17a6309f"
            },
            "attachments": {}
        },
        {
            "cell_type": "markdown",
            "source": [
                "### **Event 1:** Women's History Month\n",
                "\n",
                "Goal: Highlight Popular Womans Authors based on ratings from the Good Reads DB.\n",
                "\n",
                "### **Write a query that returns tag\\_id, the number of times each tag\\_id is used and the tag\\_name.**  \n",
                "\n",
                "### Use the GROUP BY and HAVING clause to narrow your focus.\n",
                "\n",
                "Try multiple keywords, ie woman vs female (female ended up giving better results)"
            ],
            "metadata": {
                "azdata_cell_guid": "d220c097-e9cf-4edd-9abe-312d071217b7"
            },
            "attachments": {}
        },
        {
            "cell_type": "code",
            "source": [
                "-- Solution\r\n",
                "SELECT TOP 10 t.tag_id, COUNT(*) AS 'Number of times tag_id was used', t.tag_name, r.rating\r\n",
                "FROM BooksDB.dbo.tags as t\r\n",
                "INNER JOIN BooksDB.dbo.ratings as r\r\n",
                "ON t.tag_id=r.user_id\r\n",
                "GROUP BY t.tag_name, r.rating, t.tag_id\r\n",
                "HAVING t.tag_name LIKE '%woman%' OR t.tag_name LIKE '%female%'\r\n",
                "ORDER BY COUNT(t.tag_id) DESC, r.rating DESC"
            ],
            "metadata": {
                "azdata_cell_guid": "e31b9d26-0386-44c7-828e-85f4f06f3ee6",
                "language": "sql",
                "tags": []
            },
            "outputs": [
                {
                    "output_type": "display_data",
                    "data": {
                        "text/html": "(10 rows affected)"
                    },
                    "metadata": {}
                },
                {
                    "output_type": "display_data",
                    "data": {
                        "text/html": "Total execution time: 00:00:00.539"
                    },
                    "metadata": {}
                },
                {
                    "output_type": "execute_result",
                    "metadata": {},
                    "execution_count": 9,
                    "data": {
                        "application/vnd.dataresource+json": {
                            "schema": {
                                "fields": [
                                    {
                                        "name": "tag_id"
                                    },
                                    {
                                        "name": "Number of times tag_id was used"
                                    },
                                    {
                                        "name": "tag_name"
                                    },
                                    {
                                        "name": "rating"
                                    }
                                ]
                            },
                            "data": [
                                {
                                    "0": "11644",
                                    "1": "55",
                                    "2": "female-authors",
                                    "3": "4"
                                },
                                {
                                    "0": "28831",
                                    "1": "54",
                                    "2": "strong-female-character",
                                    "3": "4"
                                },
                                {
                                    "0": "28834",
                                    "1": "44",
                                    "2": "strong-female-lead",
                                    "3": "5"
                                },
                                {
                                    "0": "11644",
                                    "1": "40",
                                    "2": "female-authors",
                                    "3": "5"
                                },
                                {
                                    "0": "28831",
                                    "1": "38",
                                    "2": "strong-female-character",
                                    "3": "3"
                                },
                                {
                                    "0": "11649",
                                    "1": "35",
                                    "2": "female-fiction",
                                    "3": "5"
                                },
                                {
                                    "0": "23891",
                                    "1": "34",
                                    "2": "policewoman-potential-victim",
                                    "3": "5"
                                },
                                {
                                    "0": "28831",
                                    "1": "32",
                                    "2": "strong-female-character",
                                    "3": "5"
                                },
                                {
                                    "0": "22270",
                                    "1": "30",
                                    "2": "older-woman",
                                    "3": "4"
                                },
                                {
                                    "0": "11662",
                                    "1": "28",
                                    "2": "female-writers",
                                    "3": "4"
                                }
                            ]
                        },
                        "text/html": [
                            "<table>",
                            "<tr><th>tag_id</th><th>Number of times tag_id was used</th><th>tag_name</th><th>rating</th></tr>",
                            "<tr><td>11644</td><td>55</td><td>female-authors</td><td>4</td></tr>",
                            "<tr><td>28831</td><td>54</td><td>strong-female-character</td><td>4</td></tr>",
                            "<tr><td>28834</td><td>44</td><td>strong-female-lead</td><td>5</td></tr>",
                            "<tr><td>11644</td><td>40</td><td>female-authors</td><td>5</td></tr>",
                            "<tr><td>28831</td><td>38</td><td>strong-female-character</td><td>3</td></tr>",
                            "<tr><td>11649</td><td>35</td><td>female-fiction</td><td>5</td></tr>",
                            "<tr><td>23891</td><td>34</td><td>policewoman-potential-victim</td><td>5</td></tr>",
                            "<tr><td>28831</td><td>32</td><td>strong-female-character</td><td>5</td></tr>",
                            "<tr><td>22270</td><td>30</td><td>older-woman</td><td>4</td></tr>",
                            "<tr><td>11662</td><td>28</td><td>female-writers</td><td>4</td></tr>",
                            "</table>"
                        ]
                    }
                }
            ],
            "execution_count": 9
        },
        {
            "cell_type": "code",
            "source": [
                "SELECT TOP 10  SUM (bt.count) AS tag_count, t.tag_id, t.tag_name\r\n",
                "FROM BooksDB.dbo.tags AS t\r\n",
                "LEFT JOIN BooksDB.dbo.book_tags AS bt\r\n",
                "ON t.tag_id = bt.tag_id\r\n",
                "GROUP BY t.tag_id, t.tag_name\r\n",
                "HAVING tag_name LIKE '%woman%' OR tag_name LIKE '%female%' OR tag_name LIKE '%trans' AND tag_name LIKE '%author%'\r\n",
                "ORDER BY tag_count DESC;"
            ],
            "metadata": {
                "language": "sql",
                "azdata_cell_guid": "cd223bad-a318-4db3-a410-d2df54895717",
                "tags": []
            },
            "outputs": [
                {
                    "output_type": "display_data",
                    "data": {
                        "text/html": "(10 rows affected)"
                    },
                    "metadata": {}
                },
                {
                    "output_type": "display_data",
                    "data": {
                        "text/html": "Total execution time: 00:00:00.414"
                    },
                    "metadata": {}
                },
                {
                    "output_type": "execute_result",
                    "metadata": {},
                    "execution_count": 8,
                    "data": {
                        "application/vnd.dataresource+json": {
                            "schema": {
                                "fields": [
                                    {
                                        "name": "tag_count"
                                    },
                                    {
                                        "name": "tag_id"
                                    },
                                    {
                                        "name": "tag_name"
                                    }
                                ]
                            },
                            "data": [
                                {
                                    "0": "17999",
                                    "1": "11643",
                                    "2": "female-author"
                                },
                                {
                                    "0": "13690",
                                    "1": "11644",
                                    "2": "female-authors"
                                },
                                {
                                    "0": "2554",
                                    "1": "11658",
                                    "2": "female-protagonist"
                                },
                                {
                                    "0": "302",
                                    "1": "11646",
                                    "2": "female-detective"
                                },
                                {
                                    "0": "155",
                                    "1": "11656",
                                    "2": "female-pov"
                                },
                                {
                                    "0": "147",
                                    "1": "11662",
                                    "2": "female-writers"
                                },
                                {
                                    "0": "136",
                                    "1": "32681",
                                    "2": "woman-s-murder-club"
                                },
                                {
                                    "0": "133",
                                    "1": "11642",
                                    "2": "female"
                                },
                                {
                                    "0": "97",
                                    "1": "22271",
                                    "2": "older-woman-younger-man"
                                },
                                {
                                    "0": "93",
                                    "1": "19038",
                                    "2": "man-woman"
                                }
                            ]
                        },
                        "text/html": [
                            "<table>",
                            "<tr><th>tag_count</th><th>tag_id</th><th>tag_name</th></tr>",
                            "<tr><td>17999</td><td>11643</td><td>female-author</td></tr>",
                            "<tr><td>13690</td><td>11644</td><td>female-authors</td></tr>",
                            "<tr><td>2554</td><td>11658</td><td>female-protagonist</td></tr>",
                            "<tr><td>302</td><td>11646</td><td>female-detective</td></tr>",
                            "<tr><td>155</td><td>11656</td><td>female-pov</td></tr>",
                            "<tr><td>147</td><td>11662</td><td>female-writers</td></tr>",
                            "<tr><td>136</td><td>32681</td><td>woman-s-murder-club</td></tr>",
                            "<tr><td>133</td><td>11642</td><td>female</td></tr>",
                            "<tr><td>97</td><td>22271</td><td>older-woman-younger-man</td></tr>",
                            "<tr><td>93</td><td>19038</td><td>man-woman</td></tr>",
                            "</table>"
                        ]
                    }
                }
            ],
            "execution_count": 8
        },
        {
            "cell_type": "markdown",
            "source": [
                "### **Which keyword(s) and tag(s) would you like to explore more?**\n",
                "\n",
                "female-authors : tag\\_id = 11644\n",
                "\n",
                "strong-female-lead: tag\\_id = 28834"
            ],
            "metadata": {
                "azdata_cell_guid": "e9acd8b5-a62b-4ac0-bd07-19915b379ba6"
            },
            "attachments": {}
        },
        {
            "cell_type": "markdown",
            "source": [
                "### **Write a query to return authors, titles, ratings and** **selected tag(s)\\_id.**"
            ],
            "metadata": {
                "azdata_cell_guid": "59b84464-c0bc-4dac-9e02-0c803765b063"
            },
            "attachments": {}
        },
        {
            "cell_type": "code",
            "source": [
                "-- Solution\r\n",
                "--A Query for the femle-authors tag\r\n",
                "SELECT TOP 10 b.title, b.authors,  bt.tag_id AS 'Female-Authors Tag',bt.[count]\r\n",
                "FROM BooksDB.dbo.books as b\r\n",
                "INNER JOIN BooksDB.dbo.book_tags as bt\r\n",
                "ON b.best_book_id=bt.goodreads_book_id\r\n",
                "WHERE bt.tag_id = 11644\r\n",
                "ORDER BY bt.[count] DESC\r\n",
                "\r\n",
                "--A Query for the strong-female-lead tag\r\n",
                "SELECT TOP 10 b.title, b.authors, bt.tag_id AS 'Strong Female Lead',bt.[count]\r\n",
                "FROM BooksDB.dbo.books as b\r\n",
                "INNER JOIN BooksDB.dbo.book_tags as bt\r\n",
                "ON b.book_id=bt.goodreads_book_id\r\n",
                "WHERE bt.tag_id = 32681\r\n",
                "ORDER BY bt.[count] DESC\r\n",
                ""
            ],
            "metadata": {
                "azdata_cell_guid": "51ffeaaf-6dde-4906-95f3-eb8757babf27",
                "tags": [],
                "language": "sql"
            },
            "outputs": [
                {
                    "output_type": "display_data",
                    "data": {
                        "text/html": "(10 rows affected)"
                    },
                    "metadata": {}
                },
                {
                    "output_type": "display_data",
                    "data": {
                        "text/html": "(10 rows affected)"
                    },
                    "metadata": {}
                },
                {
                    "output_type": "display_data",
                    "data": {
                        "text/html": "Total execution time: 00:00:00.348"
                    },
                    "metadata": {}
                },
                {
                    "output_type": "execute_result",
                    "metadata": {},
                    "execution_count": 33,
                    "data": {
                        "application/vnd.dataresource+json": {
                            "schema": {
                                "fields": [
                                    {
                                        "name": "title"
                                    },
                                    {
                                        "name": "authors"
                                    },
                                    {
                                        "name": "Female-Authors Tag"
                                    },
                                    {
                                        "name": "count"
                                    }
                                ]
                            },
                            "data": [
                                {
                                    "0": "The Handmaid's Tale",
                                    "1": "Margaret Atwood",
                                    "2": "11644",
                                    "3": "214"
                                },
                                {
                                    "0": "Jane Eyre",
                                    "1": "Charlotte Brontë, Michael Mason",
                                    "2": "11644",
                                    "3": "170"
                                },
                                {
                                    "0": "Wuthering Heights",
                                    "1": "Emily Brontë, Richard J. Dunn",
                                    "2": "11644",
                                    "3": "158"
                                },
                                {
                                    "0": "Frankenstein",
                                    "1": "Mary Wollstonecraft Shelley, Percy Bysshe Shelley, Maurice Hindle",
                                    "2": "11644",
                                    "3": "146"
                                },
                                {
                                    "0": "The Diary of a Young Girl",
                                    "1": "Anne Frank, Eleanor Roosevelt, B.M. Mooyaart-Doubleday",
                                    "2": "11644",
                                    "3": "128"
                                },
                                {
                                    "0": "Little Women (Little Women, #1)",
                                    "1": "Louisa May Alcott",
                                    "2": "11644",
                                    "3": "120"
                                },
                                {
                                    "0": "Beloved",
                                    "1": "Toni Morrison",
                                    "2": "11644",
                                    "3": "106"
                                },
                                {
                                    "0": "Sense and Sensibility",
                                    "1": "Jane Austen, Tony Tanner, Ros Ballaster",
                                    "2": "11644",
                                    "3": "102"
                                },
                                {
                                    "0": "The Lovely Bones",
                                    "1": "Alice Sebold",
                                    "2": "11644",
                                    "3": "93"
                                },
                                {
                                    "0": "Americanah",
                                    "1": "Chimamanda Ngozi Adichie",
                                    "2": "11644",
                                    "3": "93"
                                }
                            ]
                        },
                        "text/html": [
                            "<table>",
                            "<tr><th>title</th><th>authors</th><th>Female-Authors Tag</th><th>count</th></tr>",
                            "<tr><td>The Handmaid's Tale</td><td>Margaret Atwood</td><td>11644</td><td>214</td></tr>",
                            "<tr><td>Jane Eyre</td><td>Charlotte Brontë, Michael Mason</td><td>11644</td><td>170</td></tr>",
                            "<tr><td>Wuthering Heights</td><td>Emily Brontë, Richard J. Dunn</td><td>11644</td><td>158</td></tr>",
                            "<tr><td>Frankenstein</td><td>Mary Wollstonecraft Shelley, Percy Bysshe Shelley, Maurice Hindle</td><td>11644</td><td>146</td></tr>",
                            "<tr><td>The Diary of a Young Girl</td><td>Anne Frank, Eleanor Roosevelt, B.M. Mooyaart-Doubleday</td><td>11644</td><td>128</td></tr>",
                            "<tr><td>Little Women (Little Women, #1)</td><td>Louisa May Alcott</td><td>11644</td><td>120</td></tr>",
                            "<tr><td>Beloved</td><td>Toni Morrison</td><td>11644</td><td>106</td></tr>",
                            "<tr><td>Sense and Sensibility</td><td>Jane Austen, Tony Tanner, Ros Ballaster</td><td>11644</td><td>102</td></tr>",
                            "<tr><td>The Lovely Bones</td><td>Alice Sebold</td><td>11644</td><td>93</td></tr>",
                            "<tr><td>Americanah</td><td>Chimamanda Ngozi Adichie</td><td>11644</td><td>93</td></tr>",
                            "</table>"
                        ]
                    }
                },
                {
                    "output_type": "execute_result",
                    "metadata": {},
                    "execution_count": 33,
                    "data": {
                        "application/vnd.dataresource+json": {
                            "schema": {
                                "fields": [
                                    {
                                        "name": "title"
                                    },
                                    {
                                        "name": "authors"
                                    },
                                    {
                                        "name": "Strong Female Lead"
                                    },
                                    {
                                        "name": "count"
                                    }
                                ]
                            },
                            "data": [
                                {
                                    "0": "3rd Degree (Women's Murder Club, #3)",
                                    "1": "James Patterson, Andrew Gross",
                                    "2": "32681",
                                    "3": "14"
                                },
                                {
                                    "0": "2nd Chance (Women's Murder Club, #2)",
                                    "1": "James Patterson, Andrew Gross",
                                    "2": "32681",
                                    "3": "13"
                                },
                                {
                                    "0": "7th Heaven (Women's Murder Club, #7)",
                                    "1": "James Patterson, Maxine Paetro",
                                    "2": "32681",
                                    "3": "12"
                                },
                                {
                                    "0": "The 6th Target (Women's Murder Club, #6)",
                                    "1": "James Patterson, Maxine Paetro",
                                    "2": "32681",
                                    "3": "11"
                                },
                                {
                                    "0": "The 5th Horseman (Women's Murder Club, #5)",
                                    "1": "James Patterson, Maxine Paetro",
                                    "2": "32681",
                                    "3": "11"
                                },
                                {
                                    "0": "4th of July (Women's Murder Club, #4)",
                                    "1": "James Patterson, Maxine Paetro",
                                    "2": "32681",
                                    "3": "11"
                                },
                                {
                                    "0": "The 8th Confession (Women's Murder Club, #8)",
                                    "1": "James Patterson, Maxine Paetro",
                                    "2": "32681",
                                    "3": "11"
                                },
                                {
                                    "0": "The 9th Judgment  (Women's Murder Club, #9)",
                                    "1": "James Patterson, Maxine Paetro",
                                    "2": "32681",
                                    "3": "10"
                                },
                                {
                                    "0": "11th Hour (Women's Murder Club, #11)",
                                    "1": "James Patterson, Maxine Paetro",
                                    "2": "32681",
                                    "3": "9"
                                },
                                {
                                    "0": "10th Anniversary (Women's Murder Club, #10)",
                                    "1": "James Patterson, Maxine Paetro",
                                    "2": "32681",
                                    "3": "9"
                                }
                            ]
                        },
                        "text/html": [
                            "<table>",
                            "<tr><th>title</th><th>authors</th><th>Strong Female Lead</th><th>count</th></tr>",
                            "<tr><td>3rd Degree (Women's Murder Club, #3)</td><td>James Patterson, Andrew Gross</td><td>32681</td><td>14</td></tr>",
                            "<tr><td>2nd Chance (Women's Murder Club, #2)</td><td>James Patterson, Andrew Gross</td><td>32681</td><td>13</td></tr>",
                            "<tr><td>7th Heaven (Women's Murder Club, #7)</td><td>James Patterson, Maxine Paetro</td><td>32681</td><td>12</td></tr>",
                            "<tr><td>The 6th Target (Women's Murder Club, #6)</td><td>James Patterson, Maxine Paetro</td><td>32681</td><td>11</td></tr>",
                            "<tr><td>The 5th Horseman (Women's Murder Club, #5)</td><td>James Patterson, Maxine Paetro</td><td>32681</td><td>11</td></tr>",
                            "<tr><td>4th of July (Women's Murder Club, #4)</td><td>James Patterson, Maxine Paetro</td><td>32681</td><td>11</td></tr>",
                            "<tr><td>The 8th Confession (Women's Murder Club, #8)</td><td>James Patterson, Maxine Paetro</td><td>32681</td><td>11</td></tr>",
                            "<tr><td>The 9th Judgment  (Women's Murder Club, #9)</td><td>James Patterson, Maxine Paetro</td><td>32681</td><td>10</td></tr>",
                            "<tr><td>11th Hour (Women's Murder Club, #11)</td><td>James Patterson, Maxine Paetro</td><td>32681</td><td>9</td></tr>",
                            "<tr><td>10th Anniversary (Women's Murder Club, #10)</td><td>James Patterson, Maxine Paetro</td><td>32681</td><td>9</td></tr>",
                            "</table>"
                        ]
                    }
                }
            ],
            "execution_count": 33
        },
        {
            "cell_type": "code",
            "source": [
                "SELECT TOP 5 authors, title, average_rating, tag_id \r\n",
                "FROM BooksDB.dbo.books AS b \r\n",
                "LEFT JOIN BooksDB.dbo.book_tags AS bt\r\n",
                "ON goodreads_book_id = best_book_id\r\n",
                "WHERE tag_id = 32681\r\n",
                "ORDER BY average_rating DESC;\r\n",
                ""
            ],
            "metadata": {
                "language": "sql",
                "azdata_cell_guid": "d368fe13-070b-487d-b8a8-06793a76a5c4"
            },
            "outputs": [
                {
                    "output_type": "display_data",
                    "data": {
                        "text/html": "(5 rows affected)"
                    },
                    "metadata": {}
                },
                {
                    "output_type": "display_data",
                    "data": {
                        "text/html": "Total execution time: 00:00:00.152"
                    },
                    "metadata": {}
                },
                {
                    "output_type": "execute_result",
                    "metadata": {},
                    "execution_count": 11,
                    "data": {
                        "application/vnd.dataresource+json": {
                            "schema": {
                                "fields": [
                                    {
                                        "name": "authors"
                                    },
                                    {
                                        "name": "title"
                                    },
                                    {
                                        "name": "average_rating"
                                    },
                                    {
                                        "name": "tag_id"
                                    }
                                ]
                            },
                            "data": [
                                {
                                    "0": "James Patterson, Maxine Paetro",
                                    "1": "The 9th Judgment  (Women's Murder Club, #9)",
                                    "2": "4.08",
                                    "3": "32681"
                                },
                                {
                                    "0": "James Patterson, Maxine Paetro",
                                    "1": "7th Heaven (Women's Murder Club, #7)",
                                    "2": "4.06",
                                    "3": "32681"
                                },
                                {
                                    "0": "James Patterson, Maxine Paetro",
                                    "1": "10th Anniversary (Women's Murder Club, #10)",
                                    "2": "4.05",
                                    "3": "32681"
                                },
                                {
                                    "0": "James Patterson, Maxine Paetro",
                                    "1": "4th of July (Women's Murder Club, #4)",
                                    "2": "4.04",
                                    "3": "32681"
                                },
                                {
                                    "0": "James Patterson, Maxine Paetro",
                                    "1": "15th Affair (Women's Murder Club #15)",
                                    "2": "4.04",
                                    "3": "32681"
                                }
                            ]
                        },
                        "text/html": [
                            "<table>",
                            "<tr><th>authors</th><th>title</th><th>average_rating</th><th>tag_id</th></tr>",
                            "<tr><td>James Patterson, Maxine Paetro</td><td>The 9th Judgment  (Women's Murder Club, #9)</td><td>4.08</td><td>32681</td></tr>",
                            "<tr><td>James Patterson, Maxine Paetro</td><td>7th Heaven (Women's Murder Club, #7)</td><td>4.06</td><td>32681</td></tr>",
                            "<tr><td>James Patterson, Maxine Paetro</td><td>10th Anniversary (Women's Murder Club, #10)</td><td>4.05</td><td>32681</td></tr>",
                            "<tr><td>James Patterson, Maxine Paetro</td><td>4th of July (Women's Murder Club, #4)</td><td>4.04</td><td>32681</td></tr>",
                            "<tr><td>James Patterson, Maxine Paetro</td><td>15th Affair (Women's Murder Club #15)</td><td>4.04</td><td>32681</td></tr>",
                            "</table>"
                        ]
                    }
                }
            ],
            "execution_count": 11
        },
        {
            "cell_type": "markdown",
            "source": [
                "### **Record your thoughts about why you wrote the query the way you did.**"
            ],
            "metadata": {
                "azdata_cell_guid": "1e19a72c-1bca-446b-a0c7-a8efbc35dcf1"
            },
            "attachments": {}
        },
        {
            "cell_type": "markdown",
            "source": [
                "# Part 2: Choose Another Month\n",
                "\n",
                "Choose another month and plan at least 2 events / promotions and answer the following questions.\n",
                "\n",
                "Which month did you choose?  **Frebruary**\n",
                "\n",
                "What 2 events / promotions are you highlighting?\n",
                "\n",
                "> 1. Black History month\n",
                "\n",
                "> 2. Valentines Day"
            ],
            "metadata": {
                "azdata_cell_guid": "3eaf376d-9de3-4553-a9d0-9caf74ee3d6a"
            },
            "attachments": {}
        },
        {
            "cell_type": "markdown",
            "source": [
                "# Part 3: Summarize your Work\n",
                "\n",
                "For each event write at least one query that joins any two tables in the BooksDB to support your choice and record you thoughts as to why you used the paticlular query. At least one of your queries needs to include a HAVING clause."
            ],
            "metadata": {
                "azdata_cell_guid": "1ba1363a-4f02-4962-a95a-93b80c5926b1"
            },
            "attachments": {}
        },
        {
            "cell_type": "code",
            "source": [
                "-- BLACK HISTORY MONTH\r\n",
                "--Find tags with 'black' or 'african american'\r\n",
                "--Im going to use african-american-history (tag_id 1759)\r\n",
                "SELECT TOP 10 t.tag_id, COUNT(t.tag_id) AS 'Number of times tag_id was used', t.tag_name, r.rating\r\n",
                "FROM BooksDB.dbo.tags as t\r\n",
                "INNER JOIN BooksDB.dbo.ratings as r\r\n",
                "ON t.tag_id=r.user_id\r\n",
                "GROUP BY t.tag_name, r.rating, t.tag_id\r\n",
                "HAVING t.tag_name LIKE '%black%' OR t.tag_name LIKE '%african%'\r\n",
                "ORDER BY COUNT(t.tag_id) DESC, r.rating DESC\r\n",
                "\r\n",
                "--A Query for the African American History tag\r\n",
                "SELECT TOP 10 b.title, b.authors, bt.tag_id AS 'African American History', bt.[count]\r\n",
                "FROM BooksDB.dbo.books as b\r\n",
                "INNER JOIN BooksDB.dbo.book_tags as bt\r\n",
                "ON b.book_id=bt.goodreads_book_id\r\n",
                "WHERE bt.tag_id = 1759\r\n",
                "ORDER BY bt.[count] DESC"
            ],
            "metadata": {
                "azdata_cell_guid": "f50d32ce-4cb2-4af2-acb1-607777a76cf8",
                "language": "sql",
                "tags": []
            },
            "outputs": [
                {
                    "output_type": "display_data",
                    "data": {
                        "text/html": "(10 rows affected)"
                    },
                    "metadata": {}
                },
                {
                    "output_type": "display_data",
                    "data": {
                        "text/html": "(10 rows affected)"
                    },
                    "metadata": {}
                },
                {
                    "output_type": "display_data",
                    "data": {
                        "text/html": "Total execution time: 00:00:00.704"
                    },
                    "metadata": {}
                },
                {
                    "output_type": "execute_result",
                    "metadata": {},
                    "execution_count": 34,
                    "data": {
                        "application/vnd.dataresource+json": {
                            "schema": {
                                "fields": [
                                    {
                                        "name": "tag_id"
                                    },
                                    {
                                        "name": "Number of times tag_id was used"
                                    },
                                    {
                                        "name": "tag_name"
                                    },
                                    {
                                        "name": "rating"
                                    }
                                ]
                            },
                            "data": [
                                {
                                    "0": "27499",
                                    "1": "116",
                                    "2": "shayla-black",
                                    "3": "5"
                                },
                                {
                                    "0": "29703",
                                    "1": "92",
                                    "2": "the-chronicle-of-the-black-company",
                                    "3": "5"
                                },
                                {
                                    "0": "4706",
                                    "1": "52",
                                    "2": "black-fire",
                                    "3": "5"
                                },
                                {
                                    "0": "4715",
                                    "1": "50",
                                    "2": "black-liberation",
                                    "3": "4"
                                },
                                {
                                    "0": "29703",
                                    "1": "41",
                                    "2": "the-chronicle-of-the-black-company",
                                    "3": "3"
                                },
                                {
                                    "0": "4715",
                                    "1": "41",
                                    "2": "black-liberation",
                                    "3": "3"
                                },
                                {
                                    "0": "4706",
                                    "1": "40",
                                    "2": "black-fire",
                                    "3": "4"
                                },
                                {
                                    "0": "1759",
                                    "1": "40",
                                    "2": "african-american-history",
                                    "3": "4"
                                },
                                {
                                    "0": "29661",
                                    "1": "39",
                                    "2": "the-blackstone-affair",
                                    "3": "5"
                                },
                                {
                                    "0": "4698",
                                    "1": "39",
                                    "2": "black-dagger-legacy",
                                    "3": "3"
                                }
                            ]
                        },
                        "text/html": [
                            "<table>",
                            "<tr><th>tag_id</th><th>Number of times tag_id was used</th><th>tag_name</th><th>rating</th></tr>",
                            "<tr><td>27499</td><td>116</td><td>shayla-black</td><td>5</td></tr>",
                            "<tr><td>29703</td><td>92</td><td>the-chronicle-of-the-black-company</td><td>5</td></tr>",
                            "<tr><td>4706</td><td>52</td><td>black-fire</td><td>5</td></tr>",
                            "<tr><td>4715</td><td>50</td><td>black-liberation</td><td>4</td></tr>",
                            "<tr><td>29703</td><td>41</td><td>the-chronicle-of-the-black-company</td><td>3</td></tr>",
                            "<tr><td>4715</td><td>41</td><td>black-liberation</td><td>3</td></tr>",
                            "<tr><td>4706</td><td>40</td><td>black-fire</td><td>4</td></tr>",
                            "<tr><td>1759</td><td>40</td><td>african-american-history</td><td>4</td></tr>",
                            "<tr><td>29661</td><td>39</td><td>the-blackstone-affair</td><td>5</td></tr>",
                            "<tr><td>4698</td><td>39</td><td>black-dagger-legacy</td><td>3</td></tr>",
                            "</table>"
                        ]
                    }
                },
                {
                    "output_type": "execute_result",
                    "metadata": {},
                    "execution_count": 34,
                    "data": {
                        "application/vnd.dataresource+json": {
                            "schema": {
                                "fields": [
                                    {
                                        "name": "title"
                                    },
                                    {
                                        "name": "authors"
                                    },
                                    {
                                        "name": "African American History"
                                    },
                                    {
                                        "name": "count"
                                    }
                                ]
                            },
                            "data": [
                                {
                                    "0": "The Warmth of Other Suns: The Epic Story of America's Great Migration",
                                    "1": "Isabel Wilkerson",
                                    "2": "1759",
                                    "3": "56"
                                },
                                {
                                    "0": "Twelve Years a Slave",
                                    "1": "Solomon Northup",
                                    "2": "1759",
                                    "3": "32"
                                },
                                {
                                    "0": "Narrative of the Life of Frederick Douglass",
                                    "1": "Frederick Douglass",
                                    "2": "1759",
                                    "3": "26"
                                },
                                {
                                    "0": "The Autobiography of Malcolm X",
                                    "1": "Malcolm X, Alex Haley",
                                    "2": "1759",
                                    "3": "24"
                                },
                                {
                                    "0": "The Souls of Black Folk",
                                    "1": "W.E.B. Du Bois, Donald B. Gibson, Monica W. Elbert",
                                    "2": "1759",
                                    "3": "19"
                                },
                                {
                                    "0": "March: Book One (March, #1)",
                                    "1": "John             Lewis, Andrew Aydin, Nate Powell",
                                    "2": "1759",
                                    "3": "17"
                                },
                                {
                                    "0": "Up from Slavery",
                                    "1": "Booker T. Washington, Ishmael Reed",
                                    "2": "1759",
                                    "3": "16"
                                },
                                {
                                    "0": "Malcolm X: A Life of Reinvention",
                                    "1": "Manning Marable",
                                    "2": "1759",
                                    "3": "13"
                                },
                                {
                                    "0": "Incidents in the Life of a Slave Girl",
                                    "1": "Harriet Jacobs",
                                    "2": "1759",
                                    "3": "12"
                                },
                                {
                                    "0": "Cane River",
                                    "1": "Lalita Tademy",
                                    "2": "1759",
                                    "3": "11"
                                }
                            ]
                        },
                        "text/html": [
                            "<table>",
                            "<tr><th>title</th><th>authors</th><th>African American History</th><th>count</th></tr>",
                            "<tr><td>The Warmth of Other Suns: The Epic Story of America's Great Migration</td><td>Isabel Wilkerson</td><td>1759</td><td>56</td></tr>",
                            "<tr><td>Twelve Years a Slave</td><td>Solomon Northup</td><td>1759</td><td>32</td></tr>",
                            "<tr><td>Narrative of the Life of Frederick Douglass</td><td>Frederick Douglass</td><td>1759</td><td>26</td></tr>",
                            "<tr><td>The Autobiography of Malcolm X</td><td>Malcolm X, Alex Haley</td><td>1759</td><td>24</td></tr>",
                            "<tr><td>The Souls of Black Folk</td><td>W.E.B. Du Bois, Donald B. Gibson, Monica W. Elbert</td><td>1759</td><td>19</td></tr>",
                            "<tr><td>March: Book One (March, #1)</td><td>John             Lewis, Andrew Aydin, Nate Powell</td><td>1759</td><td>17</td></tr>",
                            "<tr><td>Up from Slavery</td><td>Booker T. Washington, Ishmael Reed</td><td>1759</td><td>16</td></tr>",
                            "<tr><td>Malcolm X: A Life of Reinvention</td><td>Manning Marable</td><td>1759</td><td>13</td></tr>",
                            "<tr><td>Incidents in the Life of a Slave Girl</td><td>Harriet Jacobs</td><td>1759</td><td>12</td></tr>",
                            "<tr><td>Cane River</td><td>Lalita Tademy</td><td>1759</td><td>11</td></tr>",
                            "</table>"
                        ]
                    }
                }
            ],
            "execution_count": 34
        },
        {
            "cell_type": "code",
            "source": [
                "-- VALENTINES DAY\r\n",
                "--Find tags with 'love' or 'romance'\r\n",
                "--Im going to use Lesbian Romance (tag_id 17937)\r\n",
                "SELECT TOP 10 t.tag_id, COUNT(t.tag_id) AS 'Number of times tag_id was used', t.tag_name, r.rating\r\n",
                "FROM BooksDB.dbo.tags as t\r\n",
                "INNER JOIN BooksDB.dbo.ratings as r\r\n",
                "ON t.tag_id=r.user_id\r\n",
                "GROUP BY t.tag_name, r.rating, t.tag_id\r\n",
                "HAVING t.tag_name LIKE '%love%' OR t.tag_name LIKE '%romance%'\r\n",
                "ORDER BY COUNT(t.tag_id) DESC, r.rating DESC\r\n",
                "\r\n",
                "\r\n",
                "--A Query for the Lesbian Romance tag\r\n",
                "SELECT b.title, b.authors, bt.tag_id AS 'Lesbian Romance Tag', bt.[count]\r\n",
                "FROM BooksDB.dbo.books as b\r\n",
                "INNER JOIN BooksDB.dbo.book_tags as bt\r\n",
                "ON b.book_id=bt.goodreads_book_id\r\n",
                "WHERE bt.tag_id = 17937\r\n",
                "ORDER BY bt.[count] DESC"
            ],
            "metadata": {
                "azdata_cell_guid": "5606f7f2-c46b-42d3-ac64-7ae21c3394f8",
                "language": "sql",
                "tags": []
            },
            "outputs": [
                {
                    "output_type": "display_data",
                    "data": {
                        "text/html": "(10 rows affected)"
                    },
                    "metadata": {}
                },
                {
                    "output_type": "display_data",
                    "data": {
                        "text/html": "(4 rows affected)"
                    },
                    "metadata": {}
                },
                {
                    "output_type": "display_data",
                    "data": {
                        "text/html": "Total execution time: 00:00:00.648"
                    },
                    "metadata": {}
                },
                {
                    "output_type": "execute_result",
                    "metadata": {},
                    "execution_count": 35,
                    "data": {
                        "application/vnd.dataresource+json": {
                            "schema": {
                                "fields": [
                                    {
                                        "name": "tag_id"
                                    },
                                    {
                                        "name": "Number of times tag_id was used"
                                    },
                                    {
                                        "name": "tag_name"
                                    },
                                    {
                                        "name": "rating"
                                    }
                                ]
                            },
                            "data": [
                                {
                                    "0": "26145",
                                    "1": "141",
                                    "2": "romance-contemporaneo",
                                    "3": "3"
                                },
                                {
                                    "0": "17937",
                                    "1": "120",
                                    "2": "lesbian-romance",
                                    "3": "5"
                                },
                                {
                                    "0": "27612",
                                    "1": "102",
                                    "2": "shifter-romance",
                                    "3": "5"
                                },
                                {
                                    "0": "7120",
                                    "1": "85",
                                    "2": "christian-fiction-romance",
                                    "3": "5"
                                },
                                {
                                    "0": "26146",
                                    "1": "82",
                                    "2": "romance-contemporary",
                                    "3": "5"
                                },
                                {
                                    "0": "17130",
                                    "1": "78",
                                    "2": "kids-books-i-love",
                                    "3": "5"
                                },
                                {
                                    "0": "21058",
                                    "1": "68",
                                    "2": "na-romance",
                                    "3": "5"
                                },
                                {
                                    "0": "7674",
                                    "1": "60",
                                    "2": "college-love",
                                    "3": "4"
                                },
                                {
                                    "0": "20634",
                                    "1": "57",
                                    "2": "multiple-lovers",
                                    "3": "5"
                                },
                                {
                                    "0": "31867",
                                    "1": "55",
                                    "2": "victorian-romance",
                                    "3": "4"
                                }
                            ]
                        },
                        "text/html": [
                            "<table>",
                            "<tr><th>tag_id</th><th>Number of times tag_id was used</th><th>tag_name</th><th>rating</th></tr>",
                            "<tr><td>26145</td><td>141</td><td>romance-contemporaneo</td><td>3</td></tr>",
                            "<tr><td>17937</td><td>120</td><td>lesbian-romance</td><td>5</td></tr>",
                            "<tr><td>27612</td><td>102</td><td>shifter-romance</td><td>5</td></tr>",
                            "<tr><td>7120</td><td>85</td><td>christian-fiction-romance</td><td>5</td></tr>",
                            "<tr><td>26146</td><td>82</td><td>romance-contemporary</td><td>5</td></tr>",
                            "<tr><td>17130</td><td>78</td><td>kids-books-i-love</td><td>5</td></tr>",
                            "<tr><td>21058</td><td>68</td><td>na-romance</td><td>5</td></tr>",
                            "<tr><td>7674</td><td>60</td><td>college-love</td><td>4</td></tr>",
                            "<tr><td>20634</td><td>57</td><td>multiple-lovers</td><td>5</td></tr>",
                            "<tr><td>31867</td><td>55</td><td>victorian-romance</td><td>4</td></tr>",
                            "</table>"
                        ]
                    }
                },
                {
                    "output_type": "execute_result",
                    "metadata": {},
                    "execution_count": 35,
                    "data": {
                        "application/vnd.dataresource+json": {
                            "schema": {
                                "fields": [
                                    {
                                        "name": "title"
                                    },
                                    {
                                        "name": "authors"
                                    },
                                    {
                                        "name": "Lesbian Romance Tag"
                                    },
                                    {
                                        "name": "count"
                                    }
                                ]
                            },
                            "data": [
                                {
                                    "0": "Tipping the Velvet",
                                    "1": "Sarah Waters",
                                    "2": "17937",
                                    "3": "16"
                                },
                                {
                                    "0": "Annie on My Mind",
                                    "1": "Nancy Garden",
                                    "2": "17937",
                                    "3": "12"
                                },
                                {
                                    "0": "Empress of the World (Battle Hall Davies, #1)",
                                    "1": "Sara Ryan",
                                    "2": "17937",
                                    "3": "8"
                                },
                                {
                                    "0": "Keeping You a Secret",
                                    "1": "Julie Anne Peters",
                                    "2": "17937",
                                    "3": "7"
                                }
                            ]
                        },
                        "text/html": [
                            "<table>",
                            "<tr><th>title</th><th>authors</th><th>Lesbian Romance Tag</th><th>count</th></tr>",
                            "<tr><td>Tipping the Velvet</td><td>Sarah Waters</td><td>17937</td><td>16</td></tr>",
                            "<tr><td>Annie on My Mind</td><td>Nancy Garden</td><td>17937</td><td>12</td></tr>",
                            "<tr><td>Empress of the World (Battle Hall Davies, #1)</td><td>Sara Ryan</td><td>17937</td><td>8</td></tr>",
                            "<tr><td>Keeping You a Secret</td><td>Julie Anne Peters</td><td>17937</td><td>7</td></tr>",
                            "</table>"
                        ]
                    }
                }
            ],
            "execution_count": 35
        },
        {
            "cell_type": "code",
            "source": [
                ""
            ],
            "metadata": {
                "language": "sql",
                "azdata_cell_guid": "73e5cfa9-b93d-4708-b709-504c5943fe4d"
            },
            "outputs": [],
            "execution_count": null
        },
        {
            "cell_type": "markdown",
            "source": [
                "### **Summary of event 1:**\n",
                "\n",
                "Double Click to edit.\n",
                "\n",
                "- Black History Month: In my search for books that contain the tag **black-american-history** I saw that this tag was used a total of 40 times and had an average rating of 4.\n",
                "- The Warmth of Other Suns: The Epic Story of America's Great Migration had the most **count of 56**"
            ],
            "metadata": {
                "azdata_cell_guid": "3bc72d4c-077b-42d3-9528-9aff8e7b6cf3"
            },
            "attachments": {}
        },
        {
            "cell_type": "code",
            "source": [
                ""
            ],
            "metadata": {
                "azdata_cell_guid": "dca0a98f-065f-4b0e-9d93-fcb01cad668c",
                "language": "sql"
            },
            "outputs": [],
            "execution_count": null
        },
        {
            "cell_type": "code",
            "source": [
                ""
            ],
            "metadata": {
                "azdata_cell_guid": "3aaae3a8-eff7-4b37-8970-2d913a67239b",
                "language": "sql"
            },
            "outputs": [],
            "execution_count": null
        },
        {
            "cell_type": "markdown",
            "source": [
                "### **Summary of event 2:**\n",
                "\n",
                "- Valentines Day: I queried  the tags that has the word 'romance' or 'love' and **lesbian-romance** was the most taged with the highest rating. \n",
                "    \n",
                "- The book with the highest count of that category was **Tipping the Velvet with a count of 16**"
            ],
            "metadata": {
                "azdata_cell_guid": "99d518dc-cd8b-42d6-9a9d-708771c9aa99"
            },
            "attachments": {}
        }
    ]
}